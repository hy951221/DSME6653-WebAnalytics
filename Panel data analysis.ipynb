{
 "cells": [
  {
   "cell_type": "code",
   "execution_count": 1,
   "metadata": {},
   "outputs": [],
   "source": [
    "import linearmodels.panel as pnd\n",
    "import statsmodels.api as sm\n",
    "\n",
    "import numpy as np\n",
    "import pandas as pd\n",
    "import matplotlib.pyplot as plt\n",
    "import seaborn as sns\n",
    "from scipy import stats"
   ]
  },
  {
   "cell_type": "code",
   "execution_count": 2,
   "metadata": {},
   "outputs": [],
   "source": [
    "df=pd.read_csv('airfare.csv')"
   ]
  },
  {
   "cell_type": "markdown",
   "metadata": {},
   "source": [
    "- Setting up the panel data in format required"
   ]
  },
  {
   "cell_type": "code",
   "execution_count": 3,
   "metadata": {},
   "outputs": [],
   "source": [
    "id = pd.Categorical(df.id)\n",
    "year = pd.Categorical(df.year)\n",
    "df=df.set_index(['id','year'])\n",
    "df['id']=id\n",
    "df['year']=year\n",
    "df['log(fare)']=np.log(df.fare)\n",
    "df['log(dist)']=np.log(df.dist)\n",
    "df['[log(dist)]^2']=np.square(np.log(df.dist))"
   ]
  },
  {
   "cell_type": "code",
   "execution_count": 4,
   "metadata": {},
   "outputs": [
    {
     "data": {
      "text/html": [
       "<div>\n",
       "<style scoped>\n",
       "    .dataframe tbody tr th:only-of-type {\n",
       "        vertical-align: middle;\n",
       "    }\n",
       "\n",
       "    .dataframe tbody tr th {\n",
       "        vertical-align: top;\n",
       "    }\n",
       "\n",
       "    .dataframe thead th {\n",
       "        text-align: right;\n",
       "    }\n",
       "</style>\n",
       "<table border=\"1\" class=\"dataframe\">\n",
       "  <thead>\n",
       "    <tr style=\"text-align: right;\">\n",
       "      <th></th>\n",
       "      <th></th>\n",
       "      <th>origin</th>\n",
       "      <th>destin</th>\n",
       "      <th>dist</th>\n",
       "      <th>passen</th>\n",
       "      <th>fare</th>\n",
       "      <th>bmktshr</th>\n",
       "      <th>concen</th>\n",
       "      <th>id</th>\n",
       "      <th>year</th>\n",
       "      <th>log(fare)</th>\n",
       "      <th>log(dist)</th>\n",
       "      <th>[log(dist)]^2</th>\n",
       "    </tr>\n",
       "    <tr>\n",
       "      <th>id</th>\n",
       "      <th>year</th>\n",
       "      <th></th>\n",
       "      <th></th>\n",
       "      <th></th>\n",
       "      <th></th>\n",
       "      <th></th>\n",
       "      <th></th>\n",
       "      <th></th>\n",
       "      <th></th>\n",
       "      <th></th>\n",
       "      <th></th>\n",
       "      <th></th>\n",
       "      <th></th>\n",
       "    </tr>\n",
       "  </thead>\n",
       "  <tbody>\n",
       "    <tr>\n",
       "      <td rowspan=\"4\" valign=\"top\">1</td>\n",
       "      <td>1997</td>\n",
       "      <td>AKRON, OH</td>\n",
       "      <td>ATLANTA, GA</td>\n",
       "      <td>528</td>\n",
       "      <td>152</td>\n",
       "      <td>106</td>\n",
       "      <td>0.8386</td>\n",
       "      <td>0.8386</td>\n",
       "      <td>1</td>\n",
       "      <td>1997</td>\n",
       "      <td>4.663439</td>\n",
       "      <td>6.269096</td>\n",
       "      <td>39.301568</td>\n",
       "    </tr>\n",
       "    <tr>\n",
       "      <td>1998</td>\n",
       "      <td>AKRON, OH</td>\n",
       "      <td>ATLANTA, GA</td>\n",
       "      <td>528</td>\n",
       "      <td>265</td>\n",
       "      <td>106</td>\n",
       "      <td>0.8133</td>\n",
       "      <td>0.8133</td>\n",
       "      <td>1</td>\n",
       "      <td>1998</td>\n",
       "      <td>4.663439</td>\n",
       "      <td>6.269096</td>\n",
       "      <td>39.301568</td>\n",
       "    </tr>\n",
       "    <tr>\n",
       "      <td>1999</td>\n",
       "      <td>AKRON, OH</td>\n",
       "      <td>ATLANTA, GA</td>\n",
       "      <td>528</td>\n",
       "      <td>336</td>\n",
       "      <td>113</td>\n",
       "      <td>0.8262</td>\n",
       "      <td>0.8262</td>\n",
       "      <td>1</td>\n",
       "      <td>1999</td>\n",
       "      <td>4.727388</td>\n",
       "      <td>6.269096</td>\n",
       "      <td>39.301568</td>\n",
       "    </tr>\n",
       "    <tr>\n",
       "      <td>2000</td>\n",
       "      <td>AKRON, OH</td>\n",
       "      <td>ATLANTA, GA</td>\n",
       "      <td>528</td>\n",
       "      <td>298</td>\n",
       "      <td>123</td>\n",
       "      <td>0.8612</td>\n",
       "      <td>0.8612</td>\n",
       "      <td>1</td>\n",
       "      <td>2000</td>\n",
       "      <td>4.812184</td>\n",
       "      <td>6.269096</td>\n",
       "      <td>39.301568</td>\n",
       "    </tr>\n",
       "    <tr>\n",
       "      <td>2</td>\n",
       "      <td>1997</td>\n",
       "      <td>AKRON, OH</td>\n",
       "      <td>ORLANDO, FL</td>\n",
       "      <td>861</td>\n",
       "      <td>282</td>\n",
       "      <td>104</td>\n",
       "      <td>0.5798</td>\n",
       "      <td>0.5798</td>\n",
       "      <td>2</td>\n",
       "      <td>1997</td>\n",
       "      <td>4.644391</td>\n",
       "      <td>6.758095</td>\n",
       "      <td>45.671841</td>\n",
       "    </tr>\n",
       "    <tr>\n",
       "      <td>...</td>\n",
       "      <td>...</td>\n",
       "      <td>...</td>\n",
       "      <td>...</td>\n",
       "      <td>...</td>\n",
       "      <td>...</td>\n",
       "      <td>...</td>\n",
       "      <td>...</td>\n",
       "      <td>...</td>\n",
       "      <td>...</td>\n",
       "      <td>...</td>\n",
       "      <td>...</td>\n",
       "      <td>...</td>\n",
       "      <td>...</td>\n",
       "    </tr>\n",
       "    <tr>\n",
       "      <td>1148</td>\n",
       "      <td>2000</td>\n",
       "      <td>TUCSON, AZ</td>\n",
       "      <td>WASHINGTON, DC</td>\n",
       "      <td>1948</td>\n",
       "      <td>198</td>\n",
       "      <td>311</td>\n",
       "      <td>0.4272</td>\n",
       "      <td>0.4272</td>\n",
       "      <td>1148</td>\n",
       "      <td>2000</td>\n",
       "      <td>5.739793</td>\n",
       "      <td>7.574558</td>\n",
       "      <td>57.373936</td>\n",
       "    </tr>\n",
       "    <tr>\n",
       "      <td rowspan=\"4\" valign=\"top\">1149</td>\n",
       "      <td>1997</td>\n",
       "      <td>WASHINGTON, DC</td>\n",
       "      <td>WEST PALM BEACH, FL</td>\n",
       "      <td>857</td>\n",
       "      <td>493</td>\n",
       "      <td>147</td>\n",
       "      <td>0.7089</td>\n",
       "      <td>0.7089</td>\n",
       "      <td>1149</td>\n",
       "      <td>1997</td>\n",
       "      <td>4.990433</td>\n",
       "      <td>6.753438</td>\n",
       "      <td>45.608924</td>\n",
       "    </tr>\n",
       "    <tr>\n",
       "      <td>1998</td>\n",
       "      <td>WASHINGTON, DC</td>\n",
       "      <td>WEST PALM BEACH, FL</td>\n",
       "      <td>857</td>\n",
       "      <td>523</td>\n",
       "      <td>142</td>\n",
       "      <td>0.7797</td>\n",
       "      <td>0.7797</td>\n",
       "      <td>1149</td>\n",
       "      <td>1998</td>\n",
       "      <td>4.955827</td>\n",
       "      <td>6.753438</td>\n",
       "      <td>45.608924</td>\n",
       "    </tr>\n",
       "    <tr>\n",
       "      <td>1999</td>\n",
       "      <td>WASHINGTON, DC</td>\n",
       "      <td>WEST PALM BEACH, FL</td>\n",
       "      <td>857</td>\n",
       "      <td>441</td>\n",
       "      <td>146</td>\n",
       "      <td>0.7465</td>\n",
       "      <td>0.7465</td>\n",
       "      <td>1149</td>\n",
       "      <td>1999</td>\n",
       "      <td>4.983607</td>\n",
       "      <td>6.753438</td>\n",
       "      <td>45.608924</td>\n",
       "    </tr>\n",
       "    <tr>\n",
       "      <td>2000</td>\n",
       "      <td>WASHINGTON, DC</td>\n",
       "      <td>WEST PALM BEACH, FL</td>\n",
       "      <td>857</td>\n",
       "      <td>556</td>\n",
       "      <td>145</td>\n",
       "      <td>0.8122</td>\n",
       "      <td>0.8122</td>\n",
       "      <td>1149</td>\n",
       "      <td>2000</td>\n",
       "      <td>4.976734</td>\n",
       "      <td>6.753438</td>\n",
       "      <td>45.608924</td>\n",
       "    </tr>\n",
       "  </tbody>\n",
       "</table>\n",
       "<p>4596 rows × 12 columns</p>\n",
       "</div>"
      ],
      "text/plain": [
       "                   origin               destin  dist  passen  fare  bmktshr  \\\n",
       "id   year                                                                     \n",
       "1    1997       AKRON, OH          ATLANTA, GA   528     152   106   0.8386   \n",
       "     1998       AKRON, OH          ATLANTA, GA   528     265   106   0.8133   \n",
       "     1999       AKRON, OH          ATLANTA, GA   528     336   113   0.8262   \n",
       "     2000       AKRON, OH          ATLANTA, GA   528     298   123   0.8612   \n",
       "2    1997       AKRON, OH          ORLANDO, FL   861     282   104   0.5798   \n",
       "...                   ...                  ...   ...     ...   ...      ...   \n",
       "1148 2000      TUCSON, AZ       WASHINGTON, DC  1948     198   311   0.4272   \n",
       "1149 1997  WASHINGTON, DC  WEST PALM BEACH, FL   857     493   147   0.7089   \n",
       "     1998  WASHINGTON, DC  WEST PALM BEACH, FL   857     523   142   0.7797   \n",
       "     1999  WASHINGTON, DC  WEST PALM BEACH, FL   857     441   146   0.7465   \n",
       "     2000  WASHINGTON, DC  WEST PALM BEACH, FL   857     556   145   0.8122   \n",
       "\n",
       "           concen    id  year  log(fare)  log(dist)  [log(dist)]^2  \n",
       "id   year                                                           \n",
       "1    1997  0.8386     1  1997   4.663439   6.269096      39.301568  \n",
       "     1998  0.8133     1  1998   4.663439   6.269096      39.301568  \n",
       "     1999  0.8262     1  1999   4.727388   6.269096      39.301568  \n",
       "     2000  0.8612     1  2000   4.812184   6.269096      39.301568  \n",
       "2    1997  0.5798     2  1997   4.644391   6.758095      45.671841  \n",
       "...           ...   ...   ...        ...        ...            ...  \n",
       "1148 2000  0.4272  1148  2000   5.739793   7.574558      57.373936  \n",
       "1149 1997  0.7089  1149  1997   4.990433   6.753438      45.608924  \n",
       "     1998  0.7797  1149  1998   4.955827   6.753438      45.608924  \n",
       "     1999  0.7465  1149  1999   4.983607   6.753438      45.608924  \n",
       "     2000  0.8122  1149  2000   4.976734   6.753438      45.608924  \n",
       "\n",
       "[4596 rows x 12 columns]"
      ]
     },
     "execution_count": 4,
     "metadata": {},
     "output_type": "execute_result"
    }
   ],
   "source": [
    "df"
   ]
  },
  {
   "cell_type": "markdown",
   "metadata": {},
   "source": [
    "## Task 1"
   ]
  },
  {
   "cell_type": "code",
   "execution_count": 43,
   "metadata": {
    "scrolled": true
   },
   "outputs": [],
   "source": [
    "y_var=df['log(fare)']\n",
    "X_var=sm.add_constant(df[['year','concen','log(dist)','[log(dist)]^2']])"
   ]
  },
  {
   "cell_type": "code",
   "execution_count": 6,
   "metadata": {
    "scrolled": false
   },
   "outputs": [
    {
     "data": {
      "image/png": "[encoded data removed]",
      "text/plain": [
       "<Figure size 432x432 with 3 Axes>"
      ]
     },
     "metadata": {},
     "output_type": "display_data"
    }
   ],
   "source": [
    "sns.set(style=\"white\", color_codes=True)\n",
    "g = sns.jointplot(x=df['concen'], y=df['log(fare)'], kind='reg',joint_kws={'line_kws':{'color':'red'}})\n",
    "plt.show()"
   ]
  },
  {
   "cell_type": "markdown",
   "metadata": {},
   "source": [
    "- We can observe that as concentration increases, the variance of fare decreases --> Heteroskedasticity"
   ]
  },
  {
   "cell_type": "markdown",
   "metadata": {},
   "source": [
    "- Pooled OLS\n"
   ]
  },
  {
   "cell_type": "code",
   "execution_count": 7,
   "metadata": {
    "scrolled": true
   },
   "outputs": [
    {
     "name": "stdout",
     "output_type": "stream",
     "text": [
      "                          PooledOLS Estimation Summary                          \n",
      "================================================================================\n",
      "Dep. Variable:              log(fare)   R-squared:                        0.4062\n",
      "Estimator:                  PooledOLS   R-squared (Between):              0.4215\n",
      "No. Observations:                4596   R-squared (Within):               0.1246\n",
      "Date:                Sun, May 31 2020   R-squared (Overall):              0.4062\n",
      "Time:                        21:41:15   Log-likelihood                   -1512.3\n",
      "Cov. Estimator:            Unadjusted                                           \n",
      "                                        F-statistic:                      523.18\n",
      "Entities:                        1149   P-value                           0.0000\n",
      "Avg Obs:                       4.0000   Distribution:                  F(6,4589)\n",
      "Min Obs:                       4.0000                                           \n",
      "Max Obs:                       4.0000   F-statistic (robust):             523.18\n",
      "                                        P-value                           0.0000\n",
      "Time periods:                       4   Distribution:                  F(6,4589)\n",
      "Avg Obs:                       1149.0                                           \n",
      "Min Obs:                       1149.0                                           \n",
      "Max Obs:                       1149.0                                           \n",
      "                                                                                \n",
      "                               Parameter Estimates                               \n",
      "=================================================================================\n",
      "               Parameter  Std. Err.     T-stat    P-value    Lower CI    Upper CI\n",
      "---------------------------------------------------------------------------------\n",
      "const             6.2093     0.4206     14.762     0.0000      5.3846      7.0339\n",
      "year.1998         0.0211     0.0140     1.5044     0.1326     -0.0064      0.0487\n",
      "year.1999         0.0378     0.0140     2.6956     0.0071      0.0103      0.0654\n",
      "year.2000         0.0999     0.0140     7.1116     0.0000      0.0723      0.1274\n",
      "concen            0.3601     0.0301     11.976     0.0000      0.3012      0.4191\n",
      "log(dist)        -0.9016     0.1283    -7.0288     0.0000     -1.1531     -0.6501\n",
      "[log(dist)]^2     0.1030     0.0097     10.593     0.0000      0.0840      0.1221\n",
      "=================================================================================\n"
     ]
    }
   ],
   "source": [
    "#Unadjusted\n",
    "Pooledmod = pnd.PooledOLS(y_var, X_var)\n",
    "Pooled_res = Pooledmod.fit()\n",
    "print(Pooled_res)"
   ]
  },
  {
   "cell_type": "code",
   "execution_count": 8,
   "metadata": {},
   "outputs": [
    {
     "data": {
      "text/plain": [
       "id    year\n",
       "1     1997    4.663439\n",
       "      1998    4.663439\n",
       "      1999    4.727388\n",
       "      2000    4.812184\n",
       "2     1997    4.644391\n",
       "                ...   \n",
       "1148  2000    5.739793\n",
       "1149  1997    4.990433\n",
       "      1998    4.955827\n",
       "      1999    4.983607\n",
       "      2000    4.976734\n",
       "Name: log(fare), Length: 4596, dtype: float64"
      ]
     },
     "execution_count": 8,
     "metadata": {},
     "output_type": "execute_result"
    }
   ],
   "source": [
    "y_var"
   ]
  },
  {
   "cell_type": "code",
   "execution_count": 9,
   "metadata": {},
   "outputs": [
    {
     "data": {
      "text/html": [
       "<div>\n",
       "<style scoped>\n",
       "    .dataframe tbody tr th:only-of-type {\n",
       "        vertical-align: middle;\n",
       "    }\n",
       "\n",
       "    .dataframe tbody tr th {\n",
       "        vertical-align: top;\n",
       "    }\n",
       "\n",
       "    .dataframe thead th {\n",
       "        text-align: right;\n",
       "    }\n",
       "</style>\n",
       "<table border=\"1\" class=\"dataframe\">\n",
       "  <thead>\n",
       "    <tr style=\"text-align: right;\">\n",
       "      <th></th>\n",
       "      <th></th>\n",
       "      <th>const</th>\n",
       "      <th>year</th>\n",
       "      <th>concen</th>\n",
       "      <th>log(dist)</th>\n",
       "      <th>[log(dist)]^2</th>\n",
       "    </tr>\n",
       "    <tr>\n",
       "      <th>id</th>\n",
       "      <th>year</th>\n",
       "      <th></th>\n",
       "      <th></th>\n",
       "      <th></th>\n",
       "      <th></th>\n",
       "      <th></th>\n",
       "    </tr>\n",
       "  </thead>\n",
       "  <tbody>\n",
       "    <tr>\n",
       "      <td rowspan=\"4\" valign=\"top\">1</td>\n",
       "      <td>1997</td>\n",
       "      <td>1.0</td>\n",
       "      <td>1997</td>\n",
       "      <td>0.8386</td>\n",
       "      <td>6.269096</td>\n",
       "      <td>39.301568</td>\n",
       "    </tr>\n",
       "    <tr>\n",
       "      <td>1998</td>\n",
       "      <td>1.0</td>\n",
       "      <td>1998</td>\n",
       "      <td>0.8133</td>\n",
       "      <td>6.269096</td>\n",
       "      <td>39.301568</td>\n",
       "    </tr>\n",
       "    <tr>\n",
       "      <td>1999</td>\n",
       "      <td>1.0</td>\n",
       "      <td>1999</td>\n",
       "      <td>0.8262</td>\n",
       "      <td>6.269096</td>\n",
       "      <td>39.301568</td>\n",
       "    </tr>\n",
       "    <tr>\n",
       "      <td>2000</td>\n",
       "      <td>1.0</td>\n",
       "      <td>2000</td>\n",
       "      <td>0.8612</td>\n",
       "      <td>6.269096</td>\n",
       "      <td>39.301568</td>\n",
       "    </tr>\n",
       "    <tr>\n",
       "      <td>2</td>\n",
       "      <td>1997</td>\n",
       "      <td>1.0</td>\n",
       "      <td>1997</td>\n",
       "      <td>0.5798</td>\n",
       "      <td>6.758095</td>\n",
       "      <td>45.671841</td>\n",
       "    </tr>\n",
       "    <tr>\n",
       "      <td>...</td>\n",
       "      <td>...</td>\n",
       "      <td>...</td>\n",
       "      <td>...</td>\n",
       "      <td>...</td>\n",
       "      <td>...</td>\n",
       "      <td>...</td>\n",
       "    </tr>\n",
       "    <tr>\n",
       "      <td>1148</td>\n",
       "      <td>2000</td>\n",
       "      <td>1.0</td>\n",
       "      <td>2000</td>\n",
       "      <td>0.4272</td>\n",
       "      <td>7.574558</td>\n",
       "      <td>57.373936</td>\n",
       "    </tr>\n",
       "    <tr>\n",
       "      <td rowspan=\"4\" valign=\"top\">1149</td>\n",
       "      <td>1997</td>\n",
       "      <td>1.0</td>\n",
       "      <td>1997</td>\n",
       "      <td>0.7089</td>\n",
       "      <td>6.753438</td>\n",
       "      <td>45.608924</td>\n",
       "    </tr>\n",
       "    <tr>\n",
       "      <td>1998</td>\n",
       "      <td>1.0</td>\n",
       "      <td>1998</td>\n",
       "      <td>0.7797</td>\n",
       "      <td>6.753438</td>\n",
       "      <td>45.608924</td>\n",
       "    </tr>\n",
       "    <tr>\n",
       "      <td>1999</td>\n",
       "      <td>1.0</td>\n",
       "      <td>1999</td>\n",
       "      <td>0.7465</td>\n",
       "      <td>6.753438</td>\n",
       "      <td>45.608924</td>\n",
       "    </tr>\n",
       "    <tr>\n",
       "      <td>2000</td>\n",
       "      <td>1.0</td>\n",
       "      <td>2000</td>\n",
       "      <td>0.8122</td>\n",
       "      <td>6.753438</td>\n",
       "      <td>45.608924</td>\n",
       "    </tr>\n",
       "  </tbody>\n",
       "</table>\n",
       "<p>4596 rows × 5 columns</p>\n",
       "</div>"
      ],
      "text/plain": [
       "           const  year  concen  log(dist)  [log(dist)]^2\n",
       "id   year                                               \n",
       "1    1997    1.0  1997  0.8386   6.269096      39.301568\n",
       "     1998    1.0  1998  0.8133   6.269096      39.301568\n",
       "     1999    1.0  1999  0.8262   6.269096      39.301568\n",
       "     2000    1.0  2000  0.8612   6.269096      39.301568\n",
       "2    1997    1.0  1997  0.5798   6.758095      45.671841\n",
       "...          ...   ...     ...        ...            ...\n",
       "1148 2000    1.0  2000  0.4272   7.574558      57.373936\n",
       "1149 1997    1.0  1997  0.7089   6.753438      45.608924\n",
       "     1998    1.0  1998  0.7797   6.753438      45.608924\n",
       "     1999    1.0  1999  0.7465   6.753438      45.608924\n",
       "     2000    1.0  2000  0.8122   6.753438      45.608924\n",
       "\n",
       "[4596 rows x 5 columns]"
      ]
     },
     "execution_count": 9,
     "metadata": {},
     "output_type": "execute_result"
    }
   ],
   "source": [
    "X_var"
   ]
  },
  {
   "cell_type": "markdown",
   "metadata": {},
   "source": [
    "- Pooled OLS with white's Robust Cov adjusted"
   ]
  },
  {
   "cell_type": "code",
   "execution_count": 10,
   "metadata": {},
   "outputs": [
    {
     "name": "stdout",
     "output_type": "stream",
     "text": [
      "                          PooledOLS Estimation Summary                          \n",
      "================================================================================\n",
      "Dep. Variable:              log(fare)   R-squared:                        0.4062\n",
      "Estimator:                  PooledOLS   R-squared (Between):              0.4215\n",
      "No. Observations:                4596   R-squared (Within):               0.1246\n",
      "Date:                Sun, May 31 2020   R-squared (Overall):              0.4062\n",
      "Time:                        21:41:15   Log-likelihood                   -1512.3\n",
      "Cov. Estimator:                Robust                                           \n",
      "                                        F-statistic:                      523.18\n",
      "Entities:                        1149   P-value                           0.0000\n",
      "Avg Obs:                       4.0000   Distribution:                  F(6,4589)\n",
      "Min Obs:                       4.0000                                           \n",
      "Max Obs:                       4.0000   F-statistic (robust):             558.39\n",
      "                                        P-value                           0.0000\n",
      "Time periods:                       4   Distribution:                  F(6,4589)\n",
      "Avg Obs:                       1149.0                                           \n",
      "Min Obs:                       1149.0                                           \n",
      "Max Obs:                       1149.0                                           \n",
      "                                                                                \n",
      "                               Parameter Estimates                               \n",
      "=================================================================================\n",
      "               Parameter  Std. Err.     T-stat    P-value    Lower CI    Upper CI\n",
      "---------------------------------------------------------------------------------\n",
      "const             6.2093     0.4711     13.179     0.0000      5.2856      7.1329\n",
      "year.1998         0.0211     0.0142     1.4904     0.1362     -0.0067      0.0489\n",
      "year.1999         0.0378     0.0144     2.6282     0.0086      0.0096      0.0661\n",
      "year.2000         0.0999     0.0144     6.9441     0.0000      0.0717      0.1281\n",
      "concen            0.3601     0.0318     11.319     0.0000      0.2977      0.4225\n",
      "log(dist)        -0.9016     0.1407    -6.4100     0.0000     -1.1774     -0.6259\n",
      "[log(dist)]^2     0.1030     0.0104     9.8676     0.0000      0.0826      0.1235\n",
      "=================================================================================\n"
     ]
    }
   ],
   "source": [
    "#White's method\n",
    "Pooledmod_robust = pnd.PooledOLS(y_var, X_var)\n",
    "Pooled_res_robust = Pooledmod.fit(cov_type='robust')\n",
    "print(Pooled_res_robust)"
   ]
  },
  {
   "cell_type": "code",
   "execution_count": 11,
   "metadata": {},
   "outputs": [
    {
     "name": "stdout",
     "output_type": "stream",
     "text": [
      "The range for dist is [95.0,4596.0]\n"
     ]
    }
   ],
   "source": [
    "print('The range for dist is [{},{}]'.format(df.dist.describe().min(),df.dist.describe().max()))"
   ]
  },
  {
   "cell_type": "code",
   "execution_count": 12,
   "metadata": {},
   "outputs": [
    {
     "data": {
      "image/png": "[encoded data removed]",
      "text/plain": [
       "<Figure size 600x400 with 1 Axes>"
      ]
     },
     "metadata": {},
     "output_type": "display_data"
    }
   ],
   "source": [
    "plt.figure(dpi=100)\n",
    "x=np.arange(-5,12)\n",
    "plt.plot(x,-0.9016*x+0.1030*x**2)\n",
    "plt.xlabel('log(dist)')\n",
    "plt.ylabel('-0.9016log(dist)+0.1030log^2(dist)')\n",
    "plt.show()"
   ]
  },
  {
   "cell_type": "code",
   "execution_count": 13,
   "metadata": {},
   "outputs": [
    {
     "name": "stdout",
     "output_type": "stream",
     "text": [
      "The turning point for dist starts at 79.84\n"
     ]
    }
   ],
   "source": [
    "print('The turning point for dist starts at',round(np.exp(4.38),2))"
   ]
  },
  {
   "cell_type": "markdown",
   "metadata": {},
   "source": [
    "- Random Effect Model"
   ]
  },
  {
   "cell_type": "code",
   "execution_count": 44,
   "metadata": {
    "scrolled": true
   },
   "outputs": [
    {
     "name": "stdout",
     "output_type": "stream",
     "text": [
      "                        RandomEffects Estimation Summary                        \n",
      "================================================================================\n",
      "Dep. Variable:              log(fare)   R-squared:                        0.2285\n",
      "Estimator:              RandomEffects   R-squared (Between):              0.4175\n",
      "No. Observations:                4596   R-squared (Within):               0.1348\n",
      "Date:                Sun, May 31 2020   R-squared (Overall):              0.4029\n",
      "Time:                        21:57:57   Log-likelihood                    3771.5\n",
      "Cov. Estimator:            Unadjusted                                           \n",
      "                                        F-statistic:                      226.57\n",
      "Entities:                        1149   P-value                           0.0000\n",
      "Avg Obs:                       4.0000   Distribution:                  F(6,4589)\n",
      "Min Obs:                       4.0000                                           \n",
      "Max Obs:                       4.0000   F-statistic (robust):             226.57\n",
      "                                        P-value                           0.0000\n",
      "Time periods:                       4   Distribution:                  F(6,4589)\n",
      "Avg Obs:                       1149.0                                           \n",
      "Min Obs:                       1149.0                                           \n",
      "Max Obs:                       1149.0                                           \n",
      "                                                                                \n",
      "                               Parameter Estimates                               \n",
      "=================================================================================\n",
      "               Parameter  Std. Err.     T-stat    P-value    Lower CI    Upper CI\n",
      "---------------------------------------------------------------------------------\n",
      "const             6.2220     0.8106     7.6759     0.0000      4.6329      7.8111\n",
      "year.1998         0.0225     0.0045     5.0468     0.0000      0.0137      0.0312\n",
      "year.1999         0.0367     0.0045     8.2418     0.0000      0.0280      0.0454\n",
      "year.2000         0.0982     0.0045     22.038     0.0000      0.0895      0.1069\n",
      "concen            0.2089     0.0265     7.8757     0.0000      0.1569      0.2609\n",
      "log(dist)        -0.8521     0.2467    -3.4543     0.0006     -1.3357     -0.3685\n",
      "[log(dist)]^2     0.0975     0.0187     5.2256     0.0000      0.0609      0.1340\n",
      "=================================================================================\n"
     ]
    }
   ],
   "source": [
    "REmod=pnd.RandomEffects(y_var,X_var)\n",
    "re_res=REmod.fit()\n",
    "print(re_res)"
   ]
  },
  {
   "cell_type": "code",
   "execution_count": 15,
   "metadata": {},
   "outputs": [
    {
     "data": {
      "text/plain": [
       "Effects                   0.102251\n",
       "Residual                  0.011351\n",
       "Percent due to Effects    0.900078\n",
       "Name: Variance Decomposition, dtype: float64"
      ]
     },
     "execution_count": 15,
     "metadata": {},
     "output_type": "execute_result"
    }
   ],
   "source": [
    "re_res.variance_decomposition"
   ]
  },
  {
   "cell_type": "code",
   "execution_count": 16,
   "metadata": {},
   "outputs": [
    {
     "data": {
      "text/html": [
       "<div>\n",
       "<style scoped>\n",
       "    .dataframe tbody tr th:only-of-type {\n",
       "        vertical-align: middle;\n",
       "    }\n",
       "\n",
       "    .dataframe tbody tr th {\n",
       "        vertical-align: top;\n",
       "    }\n",
       "\n",
       "    .dataframe thead th {\n",
       "        text-align: right;\n",
       "    }\n",
       "</style>\n",
       "<table border=\"1\" class=\"dataframe\">\n",
       "  <thead>\n",
       "    <tr style=\"text-align: right;\">\n",
       "      <th></th>\n",
       "      <th>theta</th>\n",
       "    </tr>\n",
       "    <tr>\n",
       "      <th>id</th>\n",
       "      <th></th>\n",
       "    </tr>\n",
       "  </thead>\n",
       "  <tbody>\n",
       "    <tr>\n",
       "      <td>1</td>\n",
       "      <td>0.83567</td>\n",
       "    </tr>\n",
       "    <tr>\n",
       "      <td>2</td>\n",
       "      <td>0.83567</td>\n",
       "    </tr>\n",
       "    <tr>\n",
       "      <td>3</td>\n",
       "      <td>0.83567</td>\n",
       "    </tr>\n",
       "    <tr>\n",
       "      <td>4</td>\n",
       "      <td>0.83567</td>\n",
       "    </tr>\n",
       "    <tr>\n",
       "      <td>5</td>\n",
       "      <td>0.83567</td>\n",
       "    </tr>\n",
       "  </tbody>\n",
       "</table>\n",
       "</div>"
      ],
      "text/plain": [
       "      theta\n",
       "id         \n",
       "1   0.83567\n",
       "2   0.83567\n",
       "3   0.83567\n",
       "4   0.83567\n",
       "5   0.83567"
      ]
     },
     "execution_count": 16,
     "metadata": {},
     "output_type": "execute_result"
    }
   ],
   "source": [
    "re_res.theta.head()"
   ]
  },
  {
   "cell_type": "code",
   "execution_count": 17,
   "metadata": {
    "scrolled": true
   },
   "outputs": [
    {
     "name": "stdout",
     "output_type": "stream",
     "text": [
      "                          PanelOLS Estimation Summary                           \n",
      "================================================================================\n",
      "Dep. Variable:              log(fare)   R-squared:                        0.1352\n",
      "Estimator:                   PanelOLS   R-squared (Between):             -0.0417\n",
      "No. Observations:                4596   R-squared (Within):               0.1352\n",
      "Date:                Sun, May 31 2020   R-squared (Overall):             -0.0325\n",
      "Time:                        21:41:16   Log-likelihood                    4435.1\n",
      "Cov. Estimator:            Unadjusted                                           \n",
      "                                        F-statistic:                      134.61\n",
      "Entities:                        1149   P-value                           0.0000\n",
      "Avg Obs:                       4.0000   Distribution:                  F(4,3443)\n",
      "Min Obs:                       4.0000                                           \n",
      "Max Obs:                       4.0000   F-statistic (robust):             134.61\n",
      "                                        P-value                           0.0000\n",
      "Time periods:                       4   Distribution:                  F(4,3443)\n",
      "Avg Obs:                       1149.0                                           \n",
      "Min Obs:                       1149.0                                           \n",
      "Max Obs:                       1149.0                                           \n",
      "                                                                                \n",
      "                             Parameter Estimates                              \n",
      "==============================================================================\n",
      "            Parameter  Std. Err.     T-stat    P-value    Lower CI    Upper CI\n",
      "------------------------------------------------------------------------------\n",
      "const          4.9533     0.0183     270.87     0.0000      4.9175      4.9892\n",
      "year.1998      0.0228     0.0045     5.1292     0.0000      0.0141      0.0316\n",
      "year.1999      0.0364     0.0044     8.1766     0.0000      0.0277      0.0451\n",
      "year.2000      0.0978     0.0045     21.944     0.0000      0.0890      0.1065\n",
      "concen         0.1689     0.0294     5.7415     0.0000      0.1112      0.2265\n",
      "==============================================================================\n",
      "\n",
      "F-test for Poolability: 60.521\n",
      "P-value: 0.0000\n",
      "Distribution: F(1148,3443)\n",
      "\n",
      "Included effects: Entity\n"
     ]
    },
    {
     "name": "stderr",
     "output_type": "stream",
     "text": [
      "/opt/anaconda3/lib/python3.7/site-packages/linearmodels/panel/model.py:1669: AbsorbingEffectWarning: \n",
      "Variables have been fully absorbed and have removed from the regression:\n",
      "\n",
      "log(dist), [log(dist)]^2\n",
      "\n",
      "  AbsorbingEffectWarning,\n"
     ]
    }
   ],
   "source": [
    "Fixedmod_year =pnd.PanelOLS(y_var, X_var, entity_effects=True, drop_absorbed=True)\n",
    "fe_res= Fixedmod_year.fit(cov_type='unadjusted')\n",
    "print(fe_res)"
   ]
  },
  {
   "cell_type": "code",
   "execution_count": 18,
   "metadata": {},
   "outputs": [],
   "source": [
    "#Hausman test\n",
    "beta=(fe_res.params - re_res.params).dropna()\n",
    "se =fe_res.cov.loc[beta.index,beta.index] - re_res.cov.loc[beta.index,beta.index]\n",
    "hausman = np.dot(beta.T,np.linalg.inv(se)).dot(beta)"
   ]
  },
  {
   "cell_type": "code",
   "execution_count": 20,
   "metadata": {},
   "outputs": [
    {
     "data": {
      "text/plain": [
       "0.2176347126109598"
      ]
     },
     "execution_count": 20,
     "metadata": {},
     "output_type": "execute_result"
    }
   ],
   "source": [
    "pval = stats.chi2.sf(hausman, beta.size)\n",
    "pval"
   ]
  },
  {
   "cell_type": "markdown",
   "metadata": {},
   "source": [
    "## Task 2"
   ]
  },
  {
   "cell_type": "markdown",
   "metadata": {},
   "source": [
    "### Q1"
   ]
  },
  {
   "cell_type": "code",
   "execution_count": 21,
   "metadata": {},
   "outputs": [],
   "source": [
    "concenbar=df['concen'].groupby('id').mean()"
   ]
  },
  {
   "cell_type": "code",
   "execution_count": 22,
   "metadata": {},
   "outputs": [
    {
     "data": {
      "text/plain": [
       "id\n",
       "1       0.834825\n",
       "2       0.608000\n",
       "3       0.786175\n",
       "4       0.431700\n",
       "5       0.510200\n",
       "          ...   \n",
       "1145    0.924350\n",
       "1146    0.981625\n",
       "1147    0.597000\n",
       "1148    0.484000\n",
       "1149    0.761825\n",
       "Name: concenbar, Length: 1149, dtype: float64"
      ]
     },
     "execution_count": 22,
     "metadata": {},
     "output_type": "execute_result"
    }
   ],
   "source": [
    "concenbar.rename('concenbar',inplace=True)"
   ]
  },
  {
   "cell_type": "code",
   "execution_count": 23,
   "metadata": {},
   "outputs": [],
   "source": [
    "df = df.join(concenbar,how='left')"
   ]
  },
  {
   "cell_type": "code",
   "execution_count": 24,
   "metadata": {},
   "outputs": [
    {
     "data": {
      "text/plain": [
       "0.687500    2\n",
       "0.654100    2\n",
       "0.518675    2\n",
       "0.517575    2\n",
       "0.500300    2\n",
       "           ..\n",
       "0.427700    1\n",
       "0.291100    1\n",
       "0.832200    1\n",
       "0.792800    1\n",
       "0.287550    1\n",
       "Name: concenbar, Length: 1140, dtype: int64"
      ]
     },
     "execution_count": 24,
     "metadata": {},
     "output_type": "execute_result"
    }
   ],
   "source": [
    "concenbar.value_counts()"
   ]
  },
  {
   "cell_type": "code",
   "execution_count": 25,
   "metadata": {},
   "outputs": [
    {
     "data": {
      "text/plain": [
       "0.1862"
      ]
     },
     "execution_count": 25,
     "metadata": {},
     "output_type": "execute_result"
    }
   ],
   "source": [
    "concenbar.min()"
   ]
  },
  {
   "cell_type": "code",
   "execution_count": 26,
   "metadata": {
    "scrolled": false
   },
   "outputs": [
    {
     "data": {
      "text/plain": [
       "0.9997"
      ]
     },
     "execution_count": 26,
     "metadata": {},
     "output_type": "execute_result"
    }
   ],
   "source": [
    "concenbar.max()"
   ]
  },
  {
   "cell_type": "markdown",
   "metadata": {},
   "source": [
    "### Q2"
   ]
  },
  {
   "cell_type": "code",
   "execution_count": 27,
   "metadata": {},
   "outputs": [],
   "source": [
    "y_var=df['log(fare)']\n",
    "X_var=sm.add_constant(df[['year','concen','log(dist)','[log(dist)]^2','concenbar']])"
   ]
  },
  {
   "cell_type": "code",
   "execution_count": 28,
   "metadata": {},
   "outputs": [
    {
     "name": "stdout",
     "output_type": "stream",
     "text": [
      "                        RandomEffects Estimation Summary                        \n",
      "================================================================================\n",
      "Dep. Variable:              log(fare)   R-squared:                        0.2302\n",
      "Estimator:              RandomEffects   R-squared (Between):              0.4216\n",
      "No. Observations:                4596   R-squared (Within):               0.1352\n",
      "Date:                Sun, May 31 2020   R-squared (Overall):              0.4068\n",
      "Time:                        21:43:07   Log-likelihood                    3776.8\n",
      "Cov. Estimator:            Unadjusted                                           \n",
      "                                        F-statistic:                      195.96\n",
      "Entities:                        1149   P-value                           0.0000\n",
      "Avg Obs:                       4.0000   Distribution:                  F(7,4588)\n",
      "Min Obs:                       4.0000                                           \n",
      "Max Obs:                       4.0000   F-statistic (robust):             195.96\n",
      "                                        P-value                           0.0000\n",
      "Time periods:                       4   Distribution:                  F(7,4588)\n",
      "Avg Obs:                       1149.0                                           \n",
      "Min Obs:                       1149.0                                           \n",
      "Max Obs:                       1149.0                                           \n",
      "                                                                                \n",
      "                               Parameter Estimates                               \n",
      "=================================================================================\n",
      "               Parameter  Std. Err.     T-stat    P-value    Lower CI    Upper CI\n",
      "---------------------------------------------------------------------------------\n",
      "const             6.2079     0.8100     7.6641     0.0000      4.6199      7.7959\n",
      "year.1998         0.0228     0.0045     5.1309     0.0000      0.0141      0.0316\n",
      "year.1999         0.0364     0.0044     8.1793     0.0000      0.0277      0.0451\n",
      "year.2000         0.0978     0.0045     21.951     0.0000      0.0890      0.1065\n",
      "concen            0.1689     0.0294     5.7434     0.0000      0.1112      0.2265\n",
      "log(dist)        -0.9089     0.2471    -3.6777     0.0002     -1.3935     -0.4244\n",
      "[log(dist)]^2     0.1038     0.0187     5.5394     0.0000      0.0671      0.1406\n",
      "concenbar         0.2136     0.0679     3.1461     0.0017      0.0805      0.3468\n",
      "=================================================================================\n"
     ]
    }
   ],
   "source": [
    "REmod=pnd.RandomEffects(y_var,X_var)\n",
    "re_res=REmod.fit()\n",
    "print(re_res)"
   ]
  },
  {
   "cell_type": "code",
   "execution_count": 29,
   "metadata": {},
   "outputs": [
    {
     "data": {
      "text/plain": [
       "Effects                   0.102342\n",
       "Residual                  0.011355\n",
       "Percent due to Effects    0.900132\n",
       "Name: Variance Decomposition, dtype: float64"
      ]
     },
     "execution_count": 29,
     "metadata": {},
     "output_type": "execute_result"
    }
   ],
   "source": [
    "re_res.variance_decomposition"
   ]
  },
  {
   "cell_type": "markdown",
   "metadata": {},
   "source": [
    "### Q3"
   ]
  },
  {
   "cell_type": "code",
   "execution_count": 74,
   "metadata": {},
   "outputs": [
    {
     "name": "stdout",
     "output_type": "stream",
     "text": [
      "                        RandomEffects Estimation Summary                        \n",
      "================================================================================\n",
      "Dep. Variable:              log(fare)   R-squared:                        0.1171\n",
      "Estimator:              RandomEffects   R-squared (Between):              0.0576\n",
      "No. Observations:                4596   R-squared (Within):               0.1352\n",
      "Date:                Mon, Jun 01 2020   R-squared (Overall):              0.0616\n",
      "Time:                        11:17:22   Log-likelihood                    3776.1\n",
      "Cov. Estimator:            Unadjusted                                           \n",
      "                                        F-statistic:                      121.77\n",
      "Entities:                        1149   P-value                           0.0000\n",
      "Avg Obs:                       4.0000   Distribution:                  F(5,4590)\n",
      "Min Obs:                       4.0000                                           \n",
      "Max Obs:                       4.0000   F-statistic (robust):             121.77\n",
      "                                        P-value                           0.0000\n",
      "Time periods:                       4   Distribution:                  F(5,4590)\n",
      "Avg Obs:                       1149.0                                           \n",
      "Min Obs:                       1149.0                                           \n",
      "Max Obs:                       1149.0                                           \n",
      "                                                                                \n",
      "                             Parameter Estimates                              \n",
      "==============================================================================\n",
      "            Parameter  Std. Err.     T-stat    P-value    Lower CI    Upper CI\n",
      "------------------------------------------------------------------------------\n",
      "const          5.3859     0.0413     130.31     0.0000      5.3049      5.4669\n",
      "year.1998      0.0228     0.0044     5.1312     0.0000      0.0141      0.0316\n",
      "year.1999      0.0364     0.0044     8.1799     0.0000      0.0277      0.0451\n",
      "year.2000      0.0978     0.0045     21.953     0.0000      0.0890      0.1065\n",
      "concen         0.1689     0.0294     5.7438     0.0000      0.1112      0.2265\n",
      "concenbar     -0.7090     0.0710    -9.9923     0.0000     -0.8481     -0.5699\n",
      "==============================================================================\n"
     ]
    }
   ],
   "source": [
    "#X_var=sm.add_constant(df[['year','concen']])\n",
    "\n",
    "X_var=sm.add_constant(df[['year','concen','concenbar']])\n",
    "REmod=pnd.RandomEffects(y_var,X_var)\n",
    "re_res=REmod.fit()\n",
    "print(re_res)"
   ]
  },
  {
   "cell_type": "code",
   "execution_count": null,
   "metadata": {},
   "outputs": [],
   "source": []
  }
 ],
 "metadata": {
  "kernelspec": {
   "display_name": "Python 3",
   "language": "python",
   "name": "python3"
  },
  "language_info": {
   "codemirror_mode": {
    "name": "ipython",
    "version": 3
   },
   "file_extension": ".py",
   "mimetype": "text/x-python",
   "name": "python",
   "nbconvert_exporter": "python",
   "pygments_lexer": "ipython3",
   "version": "3.7.4"
  }
 },
 "nbformat": 4,
 "nbformat_minor": 2
}
